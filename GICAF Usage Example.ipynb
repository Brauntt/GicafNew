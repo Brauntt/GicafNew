{
  "nbformat": 4,
  "nbformat_minor": 0,
  "metadata": {
    "language_info": {
      "name": "python",
      "codemirror_mode": {
        "name": "ipython",
        "version": 3
      },
      "version": "3.7.0-final"
    },
    "orig_nbformat": 2,
    "file_extension": ".py",
    "mimetype": "text/x-python",
    "name": "python",
    "npconvert_exporter": "python",
    "pygments_lexer": "ipython3",
    "version": 3,
    "kernelspec": {
      "name": "python37064bitenvvirtualenvcdef7a404fd74edc95c5e3f68b13b872",
      "display_name": "Python 3.7.0 64-bit ('env': virtualenv)"
    },
    "colab": {
      "name": "GICAF Usage.ipynb",
      "provenance": [],
      "collapsed_sections": [
        "9Nr0G94R4Zj6"
      ],
      "toc_visible": true
    }
  },
  "cells": [
    {
      "cell_type": "markdown",
      "metadata": {
        "id": "AIjQtLY3VwHg"
      },
      "source": [
        "## Clone GICAF"
      ]
    },
    {
      "cell_type": "code",
      "metadata": {
        "id": "X-8SeO0j3fzd"
      },
      "source": [
        "!git clone https://github.com/gasim97/gicaf.git"
      ],
      "execution_count": null,
      "outputs": []
    },
    {
      "cell_type": "markdown",
      "metadata": {
        "id": "JcPVoOk6bKXp"
      },
      "source": [
        "## Install dependencies\n",
        "IMPORTANT: before proceeding, restart the colab runtime after running this cell for the first time in a session\n",
        "\n",
        "NOTE: Brevitas, a dependency, was in alpha stage at the time of writing, as such usage of Brevitas is not considered stable"
      ]
    },
    {
      "cell_type": "code",
      "metadata": {
        "id": "pjDmAUyjHIJG"
      },
      "source": [
        "import gicaf.Dependencies\n",
        "gicaf.Dependencies.install()"
      ],
      "execution_count": null,
      "outputs": []
    },
    {
      "cell_type": "markdown",
      "metadata": {
        "id": "iga7X29ZWFBR"
      },
      "source": [
        "## Imports"
      ]
    },
    {
      "cell_type": "code",
      "metadata": {
        "id": "V00P5erlQjmx"
      },
      "source": [
        "from gicaf.LoadData import LoadData\n",
        "import gicaf.models.TfLiteModels as tlmodels\n",
        "from gicaf.attacks.AdaptiveSimBA import AdaptiveSimBA\n",
        "from gicaf.AttackEngine import AttackEngine\n",
        "from gicaf.Logger import Logger\n",
        "import gicaf.Utils as utils\n",
        "import matplotlib.pyplot as plt\n",
        "from os.path import abspath\n",
        "import logging\n",
        "logging.basicConfig(level=logging.INFO)"
      ],
      "execution_count": null,
      "outputs": []
    },
    {
      "cell_type": "markdown",
      "metadata": {
        "id": "9Nr0G94R4Zj6"
      },
      "source": [
        "## Load experiment data from Google Drive\n"
      ]
    },
    {
      "cell_type": "code",
      "metadata": {
        "id": "U3HBLEDDF-J9",
        "outputId": "6e9df97d-ebb1-4cfb-ea96-41446bd3d27a",
        "colab": {
          "base_uri": "https://localhost:8080/",
          "height": 1000
        }
      },
      "source": [
        "utils.load_tmp_from_gdrive()"
      ],
      "execution_count": null,
      "outputs": []
    },
    {
      "cell_type": "markdown",
      "metadata": {
        "id": "rNa9oZl17kmy"
      },
      "source": [
        "## Set-up model"
      ]
    },
    {
      "cell_type": "markdown",
      "metadata": {
        "id": "mmFuHWfhbo69"
      },
      "source": [
        "### TfLite"
      ]
    },
    {
      "cell_type": "code",
      "metadata": {
        "id": "BhmXhCREjZeB"
      },
      "source": [
        "model = tlmodels.EfficientNetB7(bit_width=8)"
      ],
      "execution_count": null,
      "outputs": []
    },
    {
      "cell_type": "markdown",
      "metadata": {
        "id": "6SJHQHdyWIKm"
      },
      "source": [
        "## Load data"
      ]
    },
    {
      "cell_type": "code",
      "metadata": {
        "id": "9hGEmdBnK6t4"
      },
      "source": [
        "parentdir = abspath('')\n",
        "loadData = LoadData(ground_truth_file_path=parentdir + \"/gicaf/data/val.txt\", img_folder_path=parentdir + \"/gicaf/data/ILSVRC2012_img_val/\")"
      ],
      "execution_count": null,
      "outputs": []
    },
    {
      "cell_type": "markdown",
      "metadata": {
        "id": "mv0GcPfrciUc"
      },
      "source": [
        "### Load and preprocess data"
      ]
    },
    {
      "cell_type": "code",
      "metadata": {
        "id": "1Aiewtj6xK6a"
      },
      "source": [
        "data_generator = loadData.get_data([(100, 120)], model.metadata)"
      ],
      "execution_count": null,
      "outputs": []
    },
    {
      "cell_type": "markdown",
      "metadata": {
        "id": "0nHUTwyy0AUE"
      },
      "source": [
        "### Save preprocessed data"
      ]
    },
    {
      "cell_type": "code",
      "metadata": {
        "id": "vkZKUMf0v3mu"
      },
      "source": [
        "loadData.save(data_generator, \"ILSVRC2012_val_100_to_120_EfficientNetB7\")"
      ],
      "execution_count": null,
      "outputs": []
    },
    {
      "cell_type": "markdown",
      "metadata": {
        "id": "FPvUJqMl0GIN"
      },
      "source": [
        "### Load saved preprocessed data"
      ]
    },
    {
      "cell_type": "code",
      "metadata": {
        "id": "IffjzlDz4T4y"
      },
      "source": [
        "data_generator = loadData.load(\"ILSVRC2012_val_100_to_120_EfficientNetB7\", [(7, 7)])"
      ],
      "execution_count": null,
      "outputs": []
    },
    {
      "cell_type": "markdown",
      "metadata": {
        "id": "0Ry-IAw8WUfG"
      },
      "source": [
        "## Run attack"
      ]
    },
    {
      "cell_type": "code",
      "metadata": {
        "id": "Mijr4Y7dKWnn"
      },
      "source": [
        "attacks = [\n",
        "  AdaptiveSimBA(size=8, epsilon=64/255)\n",
        "]"
      ],
      "execution_count": null,
      "outputs": []
    },
    {
      "cell_type": "code",
      "metadata": {
        "id": "yKPb7C03aRpY"
      },
      "source": [
        "metrics = [\n",
        "  'absolute-value norm', \n",
        "  'psnr', \n",
        "  'ssim'\n",
        "]"
      ],
      "execution_count": null,
      "outputs": []
    },
    {
      "cell_type": "code",
      "metadata": {
        "id": "UTB3UYeJ2VZ1"
      },
      "source": [
        "attack_engine = AttackEngine(data_generator, model, attacks)\n",
        "loggers, success_rates = attack_engine.run(metric_names=metrics)\n",
        "attack_engine.close() # save experiment logs"
      ],
      "execution_count": null,
      "outputs": []
    },
    {
      "cell_type": "code",
      "metadata": {
        "id": "JEWDiDjhPH7M"
      },
      "source": [
        "success_rates"
      ],
      "execution_count": null,
      "outputs": []
    },
    {
      "cell_type": "markdown",
      "metadata": {
        "id": "Rn-cBQ7mPLmR"
      },
      "source": [
        "## Analyse data"
      ]
    },
    {
      "cell_type": "code",
      "metadata": {
        "id": "1awmCzwn0Mm1"
      },
      "source": [
        "logger = Logger()\n",
        "logger.load(1)"
      ],
      "execution_count": null,
      "outputs": []
    },
    {
      "cell_type": "code",
      "metadata": {
        "id": "EPAH0qgvPPeI"
      },
      "source": [
        "logs = logger.get_all()"
      ],
      "execution_count": null,
      "outputs": []
    },
    {
      "cell_type": "code",
      "metadata": {
        "id": "P6gSgCFTPZRY"
      },
      "source": [
        "plt.figure(figsize=(10,7))\n",
        "with plt.style.context('seaborn-whitegrid'):\n",
        "  plt.plot(logs[0]['ssim'])"
      ],
      "execution_count": null,
      "outputs": []
    },
    {
      "cell_type": "markdown",
      "metadata": {
        "id": "-lhWxOa9cMN_"
      },
      "source": [
        "## Save experiment data to Google Drive"
      ]
    },
    {
      "cell_type": "code",
      "metadata": {
        "id": "cxc_T3CDqGE8"
      },
      "source": [
        "utils.save_tmp_to_gdrive()"
      ],
      "execution_count": null,
      "outputs": []
    }
  ]
}
